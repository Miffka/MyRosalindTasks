{
 "cells": [
  {
   "cell_type": "code",
   "execution_count": 2,
   "metadata": {
    "collapsed": false
   },
   "outputs": [
    {
     "name": "stdout",
     "output_type": "stream",
     "text": [
      "190 225 206 190 "
     ]
    }
   ],
   "source": [
    "#задача 1 - количество нуклеотидов в последовательности, выводим в порядке: А, C, G, T\n",
    "task11 = str()\n",
    "\n",
    "#считываем все данные в одну строку\n",
    "with open(\"rosalind_dna.txt\") as inf:\n",
    "    for line in inf:\n",
    "        task11 += line.strip()\n",
    "\n",
    "#ищем количетво вхождений соответствующих букв и сразу записываем его\n",
    "for j in [\"A\", \"C\", \"G\", \"T\"]:\n",
    "    print(task11.count(j), end = \" \")"
   ]
  },
  {
   "cell_type": "code",
   "execution_count": 4,
   "metadata": {
    "collapsed": true
   },
   "outputs": [],
   "source": [
    "#задача 2 - заменить все T на U в последовательности\n",
    "task21 = str()\n",
    "\n",
    "with open(\"rosalind_rna.txt\") as inf:\n",
    "    for line in inf:\n",
    "        task21 += line.strip()\n",
    "\n",
    "with open(\"rosalind_rna_out.txt\", \"w\") as ouf:\n",
    "    ouf.write(task21.replace(\"T\", \"U\"))"
   ]
  },
  {
   "cell_type": "code",
   "execution_count": 5,
   "metadata": {
    "collapsed": true
   },
   "outputs": [],
   "source": [
    "#задача 3 - написать обратную комплементарную строку\n",
    "task31 = str()\n",
    "\n",
    "with open(\"rosalind_revc.txt\") as inf:\n",
    "    for line in inf:\n",
    "        task31 += line.strip()\n",
    "\n",
    "task32 = {\"A\":\"T\", \"G\":\"C\", \"C\":\"G\", \"T\":\"A\"}\n",
    "with open(\"rosalind_revc_out.txt\", \"w\") as ouf:\n",
    "    for i in task31[::-1]:\n",
    "        ouf.write(task32[i])"
   ]
  }
 ],
 "metadata": {
  "kernelspec": {
   "display_name": "Python 3",
   "language": "python",
   "name": "python3"
  },
  "language_info": {
   "codemirror_mode": {
    "name": "ipython",
    "version": 3
   },
   "file_extension": ".py",
   "mimetype": "text/x-python",
   "name": "python",
   "nbconvert_exporter": "python",
   "pygments_lexer": "ipython3",
   "version": "3.6.0"
  }
 },
 "nbformat": 4,
 "nbformat_minor": 2
}
