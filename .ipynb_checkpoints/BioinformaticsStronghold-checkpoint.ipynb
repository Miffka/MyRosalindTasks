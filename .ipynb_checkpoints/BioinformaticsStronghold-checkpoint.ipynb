{
 "cells": [
  {
   "cell_type": "code",
   "execution_count": 6,
   "metadata": {},
   "outputs": [
    {
     "ename": "FileNotFoundError",
     "evalue": "[Errno 2] No such file or directory: 'rosalind_dna.txt'",
     "output_type": "error",
     "traceback": [
      "\u001b[0;31m---------------------------------------------------------------------------\u001b[0m",
      "\u001b[0;31mFileNotFoundError\u001b[0m                         Traceback (most recent call last)",
      "\u001b[0;32m<ipython-input-6-b3b934508bc6>\u001b[0m in \u001b[0;36m<module>\u001b[0;34m()\u001b[0m\n\u001b[1;32m      3\u001b[0m \u001b[0;34m\u001b[0m\u001b[0m\n\u001b[1;32m      4\u001b[0m \u001b[0;31m#считываем все данные в одну строку\u001b[0m\u001b[0;34m\u001b[0m\u001b[0;34m\u001b[0m\u001b[0m\n\u001b[0;32m----> 5\u001b[0;31m \u001b[0;32mwith\u001b[0m \u001b[0mopen\u001b[0m\u001b[0;34m(\u001b[0m\u001b[0;34m\"rosalind_dna.txt\"\u001b[0m\u001b[0;34m)\u001b[0m \u001b[0;32mas\u001b[0m \u001b[0minf\u001b[0m\u001b[0;34m:\u001b[0m\u001b[0;34m\u001b[0m\u001b[0m\n\u001b[0m\u001b[1;32m      6\u001b[0m     \u001b[0;32mfor\u001b[0m \u001b[0mline\u001b[0m \u001b[0;32min\u001b[0m \u001b[0minf\u001b[0m\u001b[0;34m:\u001b[0m\u001b[0;34m\u001b[0m\u001b[0m\n\u001b[1;32m      7\u001b[0m         \u001b[0mtask11\u001b[0m \u001b[0;34m+=\u001b[0m \u001b[0mline\u001b[0m\u001b[0;34m.\u001b[0m\u001b[0mstrip\u001b[0m\u001b[0;34m(\u001b[0m\u001b[0;34m)\u001b[0m\u001b[0;34m\u001b[0m\u001b[0m\n",
      "\u001b[0;31mFileNotFoundError\u001b[0m: [Errno 2] No such file or directory: 'rosalind_dna.txt'"
     ]
    }
   ],
   "source": [
    "#задача 1 - количество нуклеотидов в последовательности, выводим в порядке: А, C, G, T\n",
    "task11 = str()\n",
    "\n",
    "#считываем все данные в одну строку\n",
    "with open(\"rosalind_dna.txt\") as inf:\n",
    "    for line in inf:\n",
    "        task11 += line.strip()\n",
    "\n",
    "#ищем количеcтво вхождений соответствующих букв и сразу записываем его\n",
    "for j in [\"A\", \"C\", \"G\", \"T\"]:\n",
    "    print(task11.count(j), end = \" \")"
   ]
  },
  {
   "cell_type": "code",
   "execution_count": 4,
   "metadata": {
    "collapsed": true
   },
   "outputs": [],
   "source": [
    "#задача 2 - заменить все T на U в последовательности\n",
    "task21 = str()\n",
    "\n",
    "with open(\"rosalind_rna.txt\") as inf:\n",
    "    for line in inf:\n",
    "        task21 += line.strip()\n",
    "\n",
    "with open(\"rosalind_rna_out.txt\", \"w\") as ouf:\n",
    "    ouf.write(task21.replace(\"T\", \"U\"))"
   ]
  },
  {
   "cell_type": "code",
   "execution_count": 4,
   "metadata": {
    "collapsed": true
   },
   "outputs": [],
   "source": [
    "#задача 3 - написать обратную комплементарную строку\n",
    "task31 = str()\n",
    "\n",
    "with open(\"rosalind_revc.txt\") as inf:\n",
    "    for line in inf:\n",
    "        task31 += line.strip()\n",
    "\n",
    "task32 = {\"A\":\"T\", \"G\":\"C\", \"C\":\"G\", \"T\":\"A\"}\n",
    "with open(\"rosalind_revc_out.txt\", \"w\") as ouf:\n",
    "    for i in task31[::-1]:\n",
    "        ouf.write(task32[i])"
   ]
  },
  {
   "cell_type": "code",
   "execution_count": 1,
   "metadata": {},
   "outputs": [
    {
     "ename": "NameError",
     "evalue": "name 'pwd' is not defined",
     "output_type": "error",
     "traceback": [
      "\u001b[0;31m---------------------------------------------------------------------------\u001b[0m",
      "\u001b[0;31mNameError\u001b[0m                                 Traceback (most recent call last)",
      "\u001b[0;32m<ipython-input-1-fab36a905f84>\u001b[0m in \u001b[0;36m<module>\u001b[0;34m()\u001b[0m\n\u001b[1;32m      1\u001b[0m \u001b[0;31m#задача 4 - выводим ряд Фиббоначчи для размножения кроликов 1 -> 3\u001b[0m\u001b[0;34m\u001b[0m\u001b[0;34m\u001b[0m\u001b[0m\n\u001b[1;32m      2\u001b[0m \u001b[0;34m\"\"\"http://127.0.0.1:8888/?token=e7848b973a256216c5461b755d7e9454f433d80907b1573b\"\"\"\u001b[0m\u001b[0;34m\u001b[0m\u001b[0m\n\u001b[0;32m----> 3\u001b[0;31m \u001b[0mpwd\u001b[0m\u001b[0;34m\u001b[0m\u001b[0m\n\u001b[0m",
      "\u001b[0;31mNameError\u001b[0m: name 'pwd' is not defined"
     ]
    }
   ],
   "source": [
    "#задача 4 - выводим ряд Фиббоначчи для размножения кроликов 1 -> 3\n",
    "\"\"\"http://127.0.0.1:8888/?token=e7848b973a256216c5461b755d7e9454f433d80907b1573b\"\"\"\n"
   ]
  },
  {
   "cell_type": "code",
   "execution_count": 2,
   "metadata": {},
   "outputs": [
    {
     "name": "stdout",
     "output_type": "stream",
     "text": [
      "462\n"
     ]
    }
   ],
   "source": [
    "#задача 6 - считаем дистанцию Хамминга\n",
    "s = str()\n",
    "t = str()\n",
    "\n",
    "with open(\"rosalind_hamm.txt\") as inf:\n",
    "    s = inf.readline()\n",
    "    t = inf.readline()\n",
    "\n",
    "def hamm(str1, str2):\n",
    "    hammdist = 0\n",
    "    if len(str1) == len(str2):\n",
    "        for i in range(len(str1)):\n",
    "            if str1[i] != str2[i]:\n",
    "                hammdist += 1\n",
    "    return hammdist\n",
    "\n",
    "print(hamm(s, t))"
   ]
  },
  {
   "cell_type": "code",
   "execution_count": 17,
   "metadata": {},
   "outputs": [
    {
     "name": "stdout",
     "output_type": "stream",
     "text": [
      "4 116 136 161 237 246 263 344 351 376 383 433 489 496 503 510 681 688 782 797 819 "
     ]
    }
   ],
   "source": [
    "#задача 8 - ищем количество вхождений подстроки в строке\n",
    "\n",
    "#считаем две строки из файла \n",
    "with open(\"rosalind_subs.txt\") as inf:\n",
    "    s = inf.readline().strip()\n",
    "    t = inf.readline().strip()\n",
    "    \n",
    "def subs(matrix, motif):\n",
    "    positions = []\n",
    "    lastpos = 0\n",
    "    \n",
    "    while True:\n",
    "        lastpos = matrix.find(motif, lastpos+1)\n",
    "        \n",
    "        if lastpos == -1: #если больше нет вхождений motif в matrix,\n",
    "            break #прерываем выполнение цикла\n",
    "        \n",
    "        positions.append(lastpos+1) #в этом месте переводим индексы python в обычные - т.е., с 1\n",
    "    return positions\n",
    "\n",
    "#print(subs(s, t))\n",
    "for i in subs(s, t):\n",
    "    print(i, end = \" \")"
   ]
  },
  {
   "cell_type": "code",
   "execution_count": 8,
   "metadata": {},
   "outputs": [
    {
     "name": "stdout",
     "output_type": "stream",
     "text": [
      "MDSLRRHRRLYKCFTVINLVPRYPAEVSGRQCCPWNFRTAKLCTPNKSARCFSTRRLRNVRLFSLSIRVPLSILFPLHAAGARKGTMLGYSTTVRRCSVSRFCKIREIQSDPPDVRMSVNMTTPGGGVHWNRLRYPTCLSRRYIRMTAHLLGYSQRSFFILELCIFPVSHKLTWGGPSSFNMYTFTASRTCVPFTCLVAKLGELTIKDRPSGAFMGRSWLCLIHLRLDMAGAAVPKRVLTEQSMCDPHSSSLRRINEAGNRMSEGPECRCALIHPWKVRSYEEPPVLDGTIYPPGVKRYTVRLLIPIQRNHRQVYAKSRPNSSPKLFLFIQPSLIASLMYRGVSIYYAQEAGLRILYSELLEGGSEGKSEAQDAFAVNMSLFRNHLYLQPALVYTRISDTTDSSGRTARLLPPTRCLGNYALAYRKDFSGTELDIRQSGIATTVISRFGQTPSRLNSFRGWVAFSPPATLLECWRLQELSGIAEQDNLHRIEVNKCFSMGKCVTRLDLFFLGSESRKISRSWDSMLTIYRPKIAHQVFISGFESRGMIPSYHNRSPSRTSLSDSIHGVRHSGAHRFPTMRNMARILRINDLSVTAAFYGSSAIAQGRAQSDSPTWLYDWGNRHRYGKPETPANAGHRPFQFGNAGAAMPTAPNERNPSGCVTGRVTSSTCCLPSARRVIGPRRKSLSDPLNTECKWTVSNLTLLCVPKRVAPHGAIESLLEPASLFYMTAAYSFPHNSRHWEPVTRMAFFPEVYPRYLARIAVPNIARAIRYSARYRVDTPLSFKLAIVPDTNRIVLLISETATGFEPLEFHLFPVAFGHPALEKFRTRVFGIAEFQSIKSGGGFDRGIKRHLKPFPTLNLYTQTHSKNRGVDYESDFNGLQLSRDICSWARSCCYYRPKRSGIGWTICAQPSFHPHYFLILGSIDPIYKMNWNSHLNAHMLGTGQPNSATLHQQYKGTLTCDKNCSLPDEPQCVTYPDQQRAYRAGSDAVSTLRALFPLVYGVTSSFRYHVHSQVRIAVRCSYDQRRGALVPIIGRCATSGSNLEGLELTVTRKLVVAGTVVHAEAPAHVYDVESAERGEYRKPIPHDPGCPFQTELPWASEGTRLHWGKGSPCYCTWRLSSNVTDEDSAAFRLLSGPFLSHAMSVTAGVGMSGMSGKLSCCKTGCTTSRAAFYSITHQSAFGGAGPASRSMTQAERVGVMWAGVTPTASWFRFREHAGSTEPDTALIYCLTSLRVLQRTANSYILDQRSKYTRIRPYASAAVDARPWPWAVLEISPKRRIAHPRHQLYPRVRFRDACQCYRVSSKPCVNCVVTVTFRSDSVPGNSNWVIPDRRLEPICALAPVILSPVYTGSYVGRWLMRALVKQTAVNQATQDAEIYQLWQCGLYDNPEPDRGLYAVKPTVTVLGPPLARVGCNMRRPSVGPRVRDNDLLVKCVKYYSRALLQKHCVLELHFITSGSRRSRPCSGTRDARAFCHDPGHPDHEIIALIPARSNCIRVRLYAPRTEICVQSSHPDVNTQDWDRLHPRVSCCLGLWHLRGAKMLPRLACTNKSGHARYQLVKCRAKCVSPKKCLQRQYPAKFEVGRAWPRELTFASNTSADVSCEFPDQRPAFSPACRRMGPRKQLRSRLDSDGVVSWDLINYPSAARRCTVSCRECVVGVNYTYPSSCLLDEFIHGLLIAICSCINEPGEEREPPGTWNGAIHHAFKPTLADHYPRPPMGPVAAYSPGRWVRDALSLFSKIVIPADILWDLVLSETQMLLREKYLLEGSCAERVVYKPSTCRGCVTLFNPLPSLQSLRLDSFLELCKCITLILSREGRHLHSRQLVGAGPIASDPISEASPFKCEVKNSIYRDELCAGLFLIAIRDATPSHTKDQDMLCKTYYIRVIIPLTLEVSRVCITGMCLWRIQGYWPEPELNNWPICDSAYPTSKTFRSLKQGVVGPLIRWILSRMVSEPYKRALNMDSVGLVPKRQHIYRMHDQCRNRHIVTARSGEIRRTCYRAKLFWRITHLEFLPKAAVNSVRSAPISILHLIASRLHPAYEVDGHNAINKLAFLGKTSVMFGAPHYLLSRCLMCPRAEEELERRICIPVQAEHRTSPPYANDRQLPFPRDRDYNRRSPSFVSRDQLNHPSGFTHRTLMLRHAGRNTLMRANANMGDFGIATTSLRADEKPELGAPMRTRICRVNIVTVCRFLIHGKQPPPCLWLARCWLIVTVSPNLPCPSHIRYKSLGRSMYIPYLGARDPPRESIRGLAFGVNPLSGIYLLIHVKNGRGSSRHRQGDRSLDPGHSEKLLAMATSTLVVEPIPRLLSRGQRVPRRVDRLRLMFLVGFETSPRSVADLARLPLWPVLVEINMLRSLTGQIGSCSPHGANTIISLRVFPGNRPLPRGPYVRICSRKLEQIDSRFDPTAMWSPRLDDLMHGREGRGRRETASLYRTILRAAREHCLPSKRPQQTSPIPRRGLRYVDSLDRRRSFQFTSQRPACIAKVHKPQVRPRHLGRLTRACLVLLYSQPDDVDSYKDIGIHELLLIQAVRLAPYSPPTGQMYLEGYLVVSQFRLSKTLTFLRGVEGLGVTTEAPKPAAGNVKSDRILHSCGWGSRPWGYKRQGGKERTTIRRPHPLSLMQLYTELTVLGVPRQNSLLPRSSPLAGVRLVGYFEITRLLHIMNNNTYWAVGIGRPNNGMNLNSRSHCSEISREKAAHVTPHDVTGDGQCSQARSGGLALWSAVVGFLFFANRMDTVRTATYRHSQCFTCLAHERTSLYSKGQWPTWANTRQYFDSRSLCQQPLLRKGVQKTPTCDCLHTNFGSFVGLLIVQLFQGAGNRVRSPLKMKFLAEFPGIRRVTSSFVLWNRQSRRGPSKTSFDYPISPLGLFTLPSSKRSTDRELAVAIIYSDPGRGHPRCSPLKSRGFPFPPLR"
     ]
    }
   ],
   "source": [
    "#задача 7 - транслируем РНК-последовательность\n",
    "\n",
    "task71 = {\"UUU\":\"F\", \"CUU\":\"L\", \"AUU\":\"I\", \"GUU\":\"V\",\n",
    "         \"UUC\":\"F\", \"CUC\":\"L\", \"AUC\":\"I\", \"GUC\":\"V\",\n",
    "         \"UUA\":\"L\", \"CUA\":\"L\", \"AUA\":\"I\", \"GUA\":\"V\",\n",
    "         \"UUG\":\"L\", \"CUG\":\"L\", \"AUG\":\"M\", \"GUG\":\"V\",\n",
    "         \"UCU\":\"S\", \"CCU\":\"P\", \"ACU\":\"T\", \"GCU\":\"A\",\n",
    "         \"UCC\":\"S\", \"CCC\":\"P\", \"ACC\":\"T\", \"GCC\":\"A\",\n",
    "         \"UCA\":\"S\", \"CCA\":\"P\", \"ACA\":\"T\", \"GCA\":\"A\",\n",
    "         \"UCG\":\"S\", \"CCG\":\"P\", \"ACG\":\"T\", \"GCG\":\"A\",\n",
    "         \"UAU\":\"Y\", \"CAU\":\"H\", \"AAU\":\"N\", \"GAU\":\"D\",\n",
    "         \"UAC\":\"Y\", \"CAC\":\"H\", \"AAC\":\"N\", \"GAC\":\"D\",\n",
    "         \"UAA\":\"Stop\", \"CAA\":\"Q\", \"AAA\":\"K\", \"GAA\":\"E\",\n",
    "         \"UAG\":\"Stop\", \"CAG\":\"Q\", \"AAG\":\"K\", \"GAG\":\"E\",\n",
    "         \"UGU\":\"C\", \"CGU\":\"R\", \"AGU\":\"S\", \"GGU\":\"G\",\n",
    "         \"UGC\":\"C\", \"CGC\":\"R\", \"AGC\":\"S\", \"GGC\":\"G\",\n",
    "         \"UGA\":\"Stop\", \"CGA\":\"R\", \"AGA\":\"R\", \"GGA\":\"G\",\n",
    "         \"UGG\":\"W\", \"CGG\":\"R\", \"AGG\":\"R\", \"GGG\":\"G\"}\n",
    "\n",
    "task72 = str()\n",
    "\n",
    "with open(\"rosalind_prot.txt\") as inf:\n",
    "    for line in inf:\n",
    "        task72 += line.strip()\n",
    "\n",
    "aminoac = str()\n",
    "\n",
    "for i in range(len(task72)//3):\n",
    "    aminoac = task71[task72[i*3:(i+1)*3]]\n",
    "    if aminoac == \"Stop\":\n",
    "        break\n",
    "    print(aminoac, end = \"\")"
   ]
  }
 ],
 "metadata": {
  "kernelspec": {
   "display_name": "Python 3",
   "language": "python",
   "name": "python3"
  },
  "language_info": {
   "codemirror_mode": {
    "name": "ipython",
    "version": 3
   },
   "file_extension": ".py",
   "mimetype": "text/x-python",
   "name": "python",
   "nbconvert_exporter": "python",
   "pygments_lexer": "ipython3",
   "version": "3.6.0"
  }
 },
 "nbformat": 4,
 "nbformat_minor": 1
}
