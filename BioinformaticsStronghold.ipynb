{
 "cells": [
  {
   "cell_type": "code",
   "execution_count": 6,
   "metadata": {
    "collapsed": false
   },
   "outputs": [
    {
     "ename": "FileNotFoundError",
     "evalue": "[Errno 2] No such file or directory: 'rosalind_dna.txt'",
     "traceback": [
      "\u001b[0;31m---------------------------------------------------------------------------\u001b[0m",
      "\u001b[0;31mFileNotFoundError\u001b[0m                         Traceback (most recent call last)",
      "\u001b[0;32m<ipython-input-6-b3b934508bc6>\u001b[0m in \u001b[0;36m<module>\u001b[0;34m()\u001b[0m\n\u001b[1;32m      3\u001b[0m \u001b[0;34m\u001b[0m\u001b[0m\n\u001b[1;32m      4\u001b[0m \u001b[0;31m#считываем все данные в одну строку\u001b[0m\u001b[0;34m\u001b[0m\u001b[0;34m\u001b[0m\u001b[0m\n\u001b[0;32m----> 5\u001b[0;31m \u001b[0;32mwith\u001b[0m \u001b[0mopen\u001b[0m\u001b[0;34m(\u001b[0m\u001b[0;34m\"rosalind_dna.txt\"\u001b[0m\u001b[0;34m)\u001b[0m \u001b[0;32mas\u001b[0m \u001b[0minf\u001b[0m\u001b[0;34m:\u001b[0m\u001b[0;34m\u001b[0m\u001b[0m\n\u001b[0m\u001b[1;32m      6\u001b[0m     \u001b[0;32mfor\u001b[0m \u001b[0mline\u001b[0m \u001b[0;32min\u001b[0m \u001b[0minf\u001b[0m\u001b[0;34m:\u001b[0m\u001b[0;34m\u001b[0m\u001b[0m\n\u001b[1;32m      7\u001b[0m         \u001b[0mtask11\u001b[0m \u001b[0;34m+=\u001b[0m \u001b[0mline\u001b[0m\u001b[0;34m.\u001b[0m\u001b[0mstrip\u001b[0m\u001b[0;34m(\u001b[0m\u001b[0;34m)\u001b[0m\u001b[0;34m\u001b[0m\u001b[0m\n",
      "\u001b[0;31mFileNotFoundError\u001b[0m: [Errno 2] No such file or directory: 'rosalind_dna.txt'"
     ],
     "output_type": "error"
    }
   ],
   "source": [
    "#задача 1 - количество нуклеотидов в последовательности, выводим в порядке: А, C, G, T\n",
    "task11 = str()\n",
    "\n",
    "#считываем все данные в одну строку\n",
    "with open(\"rosalind_dna.txt\") as inf:\n",
    "    for line in inf:\n",
    "        task11 += line.strip()\n",
    "\n",
    "#ищем количеcтво вхождений соответствующих букв и сразу записываем его\n",
    "for j in [\"A\", \"C\", \"G\", \"T\"]:\n",
    "    print(task11.count(j), end = \" \")"
   ]
  },
  {
   "cell_type": "code",
   "execution_count": 4,
   "metadata": {
    "collapsed": true
   },
   "outputs": [],
   "source": [
    "#задача 2 - заменить все T на U в последовательности\n",
    "task21 = str()\n",
    "\n",
    "with open(\"rosalind_rna.txt\") as inf:\n",
    "    for line in inf:\n",
    "        task21 += line.strip()\n",
    "\n",
    "with open(\"rosalind_rna_out.txt\", \"w\") as ouf:\n",
    "    ouf.write(task21.replace(\"T\", \"U\"))"
   ]
  },
  {
   "cell_type": "code",
   "execution_count": 4,
   "metadata": {
    "collapsed": true
   },
   "outputs": [],
   "source": [
    "#задача 3 - написать обратную комплементарную строку\n",
    "task31 = str()\n",
    "\n",
    "with open(\"rosalind_revc.txt\") as inf:\n",
    "    for line in inf:\n",
    "        task31 += line.strip()\n",
    "\n",
    "task32 = {\"A\":\"T\", \"G\":\"C\", \"C\":\"G\", \"T\":\"A\"}\n",
    "with open(\"rosalind_revc_out.txt\", \"w\") as ouf:\n",
    "    for i in task31[::-1]:\n",
    "        ouf.write(task32[i])"
   ]
  },
  {
   "cell_type": "code",
   "execution_count": 8,
   "metadata": {},
   "outputs": [
    {
     "ename": "NameError",
     "evalue": "name 'pwd' is not defined",
     "traceback": [
      "\u001b[0;31m---------------------------------------------------------------------------\u001b[0m",
      "\u001b[0;31mNameError\u001b[0m                                 Traceback (most recent call last)",
      "\u001b[0;32m<ipython-input-8-dceeab0eedaa>\u001b[0m in \u001b[0;36m<module>\u001b[0;34m()\u001b[0m\n\u001b[1;32m      1\u001b[0m \u001b[0;31m#задача 4 - выводим ряд Фиббоначчи для размножения кроликов 1 -> 3\u001b[0m\u001b[0;34m\u001b[0m\u001b[0;34m\u001b[0m\u001b[0m\n\u001b[1;32m      2\u001b[0m \u001b[0;32mimport\u001b[0m \u001b[0mntpath\u001b[0m\u001b[0;34m\u001b[0m\u001b[0m\n\u001b[0;32m----> 3\u001b[0;31m \u001b[0mpwd\u001b[0m\u001b[0;34m\u001b[0m\u001b[0m\n\u001b[0m",
      "\u001b[0;31mNameError\u001b[0m: name 'pwd' is not defined"
     ],
     "output_type": "error"
    }
   ],
   "source": [
    "#задача 4 - выводим ряд Фиббоначчи для размножения кроликов 1 -> 3\n"
   ]
  }
 ],
 "metadata": {
  "kernelspec": {
   "display_name": "Python 3",
   "language": "python",
   "name": "python3"
  },
  "language_info": {
   "codemirror_mode": {
    "name": "ipython",
    "version": 3
   },
   "file_extension": ".py",
   "mimetype": "text/x-python",
   "name": "python",
   "nbconvert_exporter": "python",
   "pygments_lexer": "ipython3",
   "version": "3.6.0"
  }
 },
 "nbformat": 4,
 "nbformat_minor": 0
}
