{
 "cells": [
  {
   "cell_type": "code",
   "execution_count": 5,
   "metadata": {
    "collapsed": false
   },
   "outputs": [
    {
     "name": "stdout",
     "output_type": "stream",
     "text": [
      "1674842\n"
     ]
    }
   ],
   "source": [
    "#task2 - sum of input squares\n",
    "with open(\"rosalind_ini2.txt\") as inf:\n",
    "    task1 = [int(i) for i in inf.readline().split()]\n",
    "print(task1[0]**2 + task1[1]**2)"
   ]
  },
  {
   "cell_type": "code",
   "execution_count": 8,
   "metadata": {
    "collapsed": false
   },
   "outputs": [
    {
     "name": "stdout",
     "output_type": "stream",
     "text": [
      "Kassina cinclus\n"
     ]
    }
   ],
   "source": [
    "#task3 - slice\n",
    "with open(\"rosalind_ini3.txt\") as inf:\n",
    "    task31 = inf.readline()\n",
    "    task32 = [int(i) for i in inf.readline().split()]\n",
    "\"\"\"task31 = input()\n",
    "task32 = [int(i) for i in input().split()]\"\"\"\n",
    "print(task31[task32[0]:task32[1]+1] + \" \" + task31[task32[2]:task32[3]+1])"
   ]
  },
  {
   "cell_type": "code",
   "execution_count": 20,
   "metadata": {
    "collapsed": false
   },
   "outputs": [
    {
     "name": "stdout",
     "output_type": "stream",
     "text": [
      "13862841\n"
     ]
    }
   ],
   "source": [
    "#task4 - sum of odd integers from a through b\n",
    "with open(\"rosalind_ini4.txt\") as inf:\n",
    "    task41 = [int(i) for i in inf.readline().split()]\n",
    "\"\"\"task41 = [int(i) for i in input().split()]\"\"\"\n",
    "s = 0\n",
    "if task41[0] % 2 == 1 :\n",
    "    for i in range(task41[0], task41[1]+1, 2):\n",
    "        s += i\n",
    "else:\n",
    "    for i in range(task41[0]+1, task41[1]+1, 2):\n",
    "        s += i\n",
    "print(s)    "
   ]
  },
  {
   "cell_type": "code",
   "execution_count": 29,
   "metadata": {
    "collapsed": false
   },
   "outputs": [
    {
     "name": "stdout",
     "output_type": "stream",
     "text": [
      "['Some things in life are bad, they can really make you mad', 'Other things just make you swear and curse', \"When you're chewing on life's gristle, don't grumble give a whistle\", 'This will help things turn out for the best', 'Always look on the bright side of life', 'Always look on the right side of life', \"If life seems jolly rotten, there's something you've forgotten\", \"And that's to laugh and smile and dance and sing\", \"When you're feeling in the dumps, don't be silly, chumps\", \"Just purse your lips and whistle, that's the thing\", 'So, always look on the bright side of death', 'Just before you draw your terminal breath', \"Life's a counterfeit and when you look at it\", \"Life's a laugh and death's the joke, it's true\", \"You see, it's all a show, keep them laughing as you go\", 'Just remember the last laugh is on you', 'Always look on the bright side of life', 'And always look on the right side of life', 'Always look on the bright side of life', 'And always look on the right side of life']\n"
     ]
    }
   ],
   "source": [
    "#task5 - download file and write a file, containing all even lines (lines start from 1) from the initial file\n",
    "c = 0 #задаем значение счетчика\n",
    "task51 = [] #сюда будем складывать все четные строки\n",
    "with open(\"rosalind_ini5 (1).txt\") as inf:\n",
    "    for line in inf:\n",
    "        c += 1\n",
    "        if c % 2 == 0:\n",
    "            task51.append(line.strip())\n",
    "print(task51)\n",
    "with open(\"rosalind_out5.txt\", \"w\") as ouf:\n",
    "    for i in task51:\n",
    "        ouf.write(str(i) + '\\n')"
   ]
  },
  {
   "cell_type": "code",
   "execution_count": 37,
   "metadata": {
    "collapsed": false
   },
   "outputs": [
    {
     "name": "stdout",
     "output_type": "stream",
     "text": [
      "{'We': 1, 'tried': 3, 'list': 1, 'and': 1, 'we': 2, 'dicts': 1, 'also': 1, 'Zen': 1}\n"
     ]
    }
   ],
   "source": [
    "#task6\n",
    "\"\"\"download a string of less than 10^4 letters, make a dictionary from it and output a number of\n",
    "occurences of each word (our dictionary should be case-sensitive)\"\"\"\n",
    "#для начала считаем весь файл в один список\n",
    "task61 = [] #сюда будем считывать файл\n",
    "with open(\"rosalind_ini6.txt\") as inf:\n",
    "    for line in inf:\n",
    "        for j in line.strip().split():\n",
    "            task61.append(j)\n",
    "#проходимся по списку и создаем словарь вида СЛОВО: КОЛИЧЕСТВО_ВХОЖДЕНИЙ\n",
    "task62 = {}\n",
    "for i in task61:\n",
    "    task62[i] = task61.count(i)\n",
    "print(task62)\n",
    "#записываем словарь в нужном нам виде в файл\n",
    "with open(\"rosalind_out6.txt\", \"w\") as ouf:\n",
    "    for key,value in task62.items():\n",
    "        ouf.write(key + \" \" + str(value) + \"\\n\")"
   ]
  }
 ],
 "metadata": {
  "kernelspec": {
   "display_name": "Python 3",
   "language": "python",
   "name": "python3"
  },
  "language_info": {
   "codemirror_mode": {
    "name": "ipython",
    "version": 3
   },
   "file_extension": ".py",
   "mimetype": "text/x-python",
   "name": "python",
   "nbconvert_exporter": "python",
   "pygments_lexer": "ipython3",
   "version": "3.6.0"
  }
 },
 "nbformat": 4,
 "nbformat_minor": 0
}
